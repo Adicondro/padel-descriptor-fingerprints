{
  "nbformat": 4,
  "nbformat_minor": 0,
  "metadata": {
    "colab": {
      "provenance": [],
      "authorship_tag": "ABX9TyN7HGFg/ARwjVRT4zAPjzxP",
      "include_colab_link": true
    },
    "kernelspec": {
      "name": "python3",
      "display_name": "Python 3"
    },
    "language_info": {
      "name": "python"
    }
  },
  "cells": [
    {
      "cell_type": "markdown",
      "metadata": {
        "id": "view-in-github",
        "colab_type": "text"
      },
      "source": [
        "<a href=\"https://colab.research.google.com/github/Adicondro/padel-descriptor-fingerprints/blob/main/chemblsmilesconverter.ipynb\" target=\"_parent\"><img src=\"https://colab.research.google.com/assets/colab-badge.svg\" alt=\"Open In Colab\"/></a>"
      ]
    },
    {
      "cell_type": "code",
      "execution_count": 1,
      "metadata": {
        "colab": {
          "base_uri": "https://localhost:8080/"
        },
        "id": "1jb2PkEDW0BI",
        "outputId": "a07e4801-b0bd-4f5f-bbea-7162c77a5062"
      },
      "outputs": [
        {
          "output_type": "stream",
          "name": "stdout",
          "text": [
            "Collecting rdkit-pypi\n",
            "  Downloading rdkit_pypi-2022.9.5-cp311-cp311-manylinux_2_17_x86_64.manylinux2014_x86_64.whl.metadata (3.9 kB)\n",
            "Requirement already satisfied: numpy in /usr/local/lib/python3.11/dist-packages (from rdkit-pypi) (2.0.2)\n",
            "Requirement already satisfied: Pillow in /usr/local/lib/python3.11/dist-packages (from rdkit-pypi) (11.1.0)\n",
            "Downloading rdkit_pypi-2022.9.5-cp311-cp311-manylinux_2_17_x86_64.manylinux2014_x86_64.whl (29.4 MB)\n",
            "\u001b[2K   \u001b[90m━━━━━━━━━━━━━━━━━━━━━━━━━━━━━━━━━━━━━━━━\u001b[0m \u001b[32m29.4/29.4 MB\u001b[0m \u001b[31m17.1 MB/s\u001b[0m eta \u001b[36m0:00:00\u001b[0m\n",
            "\u001b[?25hInstalling collected packages: rdkit-pypi\n",
            "Successfully installed rdkit-pypi-2022.9.5\n"
          ]
        }
      ],
      "source": [
        "# Install RDKit\n",
        "!pip install rdkit-pypi"
      ]
    },
    {
      "cell_type": "code",
      "source": [
        "import pandas as pd\n",
        "from google.colab import files\n",
        "\n",
        "# Upload file XLS\n",
        "uploaded = files.upload()\n",
        "\n",
        "# Baca file (gunakan engine default)\n",
        "file_name = list(uploaded.keys())[0]\n",
        "df = pd.read_excel(file_name)\n",
        "\n",
        "# Validasi kolom\n",
        "if \"Smiles\" not in df.columns or \"Molecule ChEMBL ID\" not in df.columns:\n",
        "    raise ValueError(\"Kolom 'Smiles' atau 'Molecule ChEMBL ID' tidak ditemukan dalam file.\")\n",
        "\n",
        "# Simpan dalam format SMILES\n",
        "smiles_file = \"molecule.smi\"\n",
        "df[[\"Smiles\", \"Molecule ChEMBL ID\"]].to_csv(smiles_file, sep=\"\\t\", index=False, header=False)\n",
        "\n",
        "# Download hasil konversi\n",
        "files.download(smiles_file)\n"
      ],
      "metadata": {
        "id": "toEDEncQW-nf"
      },
      "execution_count": 3,
      "outputs": []
    }
  ]
}